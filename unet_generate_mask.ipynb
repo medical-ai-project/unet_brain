{
 "cells": [
  {
   "cell_type": "code",
   "execution_count": 1,
   "id": "c433a8f9",
   "metadata": {},
   "outputs": [],
   "source": [
    "import os\n",
    "import cv2\n",
    "import torch\n",
    "import torch.nn as nn\n",
    "import torch.nn.functional as F\n",
    "import numpy as np\n",
    "import pandas as pd\n",
    "import albumentations as A\n",
    "import torch.utils.data as data\n",
    "import matplotlib.pyplot as plt\n",
    "import torchvision.transforms as tt\n",
    "from PIL import Image\n",
    "from torchvision import transforms\n",
    "from torch.utils.data import DataLoader"
   ]
  },
  {
   "cell_type": "code",
   "execution_count": 2,
   "id": "506a2b73",
   "metadata": {},
   "outputs": [],
   "source": [
    "# (DoubleConv, Down, Up, OutConv, UNet)をここに含める\n",
    "\n",
    "class DoubleConv(nn.Module):\n",
    "    \"\"\"(convolution => [BN] => ReLU) * 2\"\"\"\n",
    "    def __init__(self, in_channels, out_channels, mid_channels=None):\n",
    "        super().__init__()\n",
    "        if not mid_channels:\n",
    "            mid_channels = out_channels\n",
    "        self.double_conv = nn.Sequential(\n",
    "            nn.Conv2d(in_channels, mid_channels, kernel_size=3, padding=1),\n",
    "            nn.BatchNorm2d(mid_channels),\n",
    "            nn.ReLU(inplace=True),\n",
    "            nn.Conv2d(mid_channels, out_channels, kernel_size=3, padding=1),\n",
    "            nn.BatchNorm2d(out_channels),\n",
    "            nn.ReLU(inplace=True))\n",
    "    def forward(self, x):\n",
    "        return self.double_conv(x)\n",
    "\n",
    "class Down(nn.Module):\n",
    "    \"\"\"Downscaling with maxpool then double conv\"\"\"\n",
    "    def __init__(self, in_channels, out_channels):\n",
    "        super().__init__()\n",
    "        self.maxpool_conv = nn.Sequential(\n",
    "            nn.MaxPool2d(2),\n",
    "            DoubleConv(in_channels, out_channels))\n",
    "    def forward(self, x):\n",
    "        return self.maxpool_conv(x)\n",
    "\n",
    "class Up(nn.Module):\n",
    "    \"\"\"Upscaling then double conv\"\"\"\n",
    "    def __init__(self, in_channels, out_channels, bilinear=True):\n",
    "        super().__init__()\n",
    "        if bilinear:\n",
    "            self.up = nn.Upsample(scale_factor=2, mode='bilinear', align_corners=True)\n",
    "            self.conv = DoubleConv(in_channels, out_channels, in_channels//2)\n",
    "        else:\n",
    "            self.up = nn.ConvTranspose2d(in_channels, in_channels//2, kernel_size=2, stride=2)\n",
    "            self.conv = DoubleConv(in_channels, out_channels)\n",
    "    def forward(self, x1, x2):\n",
    "        x1 = self.up(x1)\n",
    "        diffY = x2.size()[2] - x1.size()[2]\n",
    "        diffX = x2.size()[3] - x1.size()[3]\n",
    "\n",
    "        x1 = F.pad(x1, [diffX//2, diffX-diffX//2,\n",
    "                        diffY//2, diffY-diffY//2])\n",
    "        x = torch.cat([x2, x1], dim=1)\n",
    "        return self.conv(x)\n",
    "\n",
    "class OutConv(nn.Module):\n",
    "    def __init__(self, in_channels, out_channels):\n",
    "        super(OutConv, self).__init__()\n",
    "        self.conv = nn.Sequential(\n",
    "            nn.Conv2d(in_channels, out_channels, kernel_size=1),\n",
    "            nn.Sigmoid())\n",
    "    def forward(self, x):\n",
    "        return self.conv(x)"
   ]
  },
  {
   "cell_type": "code",
   "execution_count": 3,
   "id": "a7478fec",
   "metadata": {},
   "outputs": [],
   "source": [
    "class UNet(nn.Module):\n",
    "    def __init__(self, n_channels, n_classes, bilinear=True):\n",
    "        super(UNet, self).__init__()\n",
    "        self.n_channels = n_channels\n",
    "        self.n_classes = n_classes\n",
    "        self.bilinear = bilinear\n",
    "\n",
    "        self.inc = DoubleConv(n_channels, 64)\n",
    "        self.down1 = Down(64, 128)\n",
    "        self.down2 = Down(128, 256)\n",
    "        self.down3 = Down(256, 512)\n",
    "        factor = 2 if bilinear else 1\n",
    "        self.down4 = Down(512, 1024//factor)\n",
    "        self.up1 = Up(1024, 512//factor, bilinear)\n",
    "        self.up2 = Up(512, 256//factor, bilinear)\n",
    "        self.up3 = Up(256, 128//factor, bilinear)\n",
    "        self.up4 = Up(128, 64, bilinear)\n",
    "        self.outc = OutConv(64, n_classes)\n",
    "\n",
    "    def forward(self, x):\n",
    "        x1 = self.inc(x)\n",
    "        x2 = self.down1(x1)\n",
    "        x3 = self.down2(x2)\n",
    "        x4 = self.down3(x3)\n",
    "        x5 = self.down4(x4)\n",
    "        x = self.up1(x5, x4)\n",
    "        x = self.up2(x, x3)\n",
    "        x = self.up3(x, x2)\n",
    "        x = self.up4(x, x1)\n",
    "        logits = self.outc(x)\n",
    "        return logits"
   ]
  },
  {
   "cell_type": "code",
   "execution_count": 4,
   "id": "68cd400a",
   "metadata": {},
   "outputs": [
    {
     "name": "stdout",
     "output_type": "stream",
     "text": [
      "Input shape: torch.Size([1, 3, 128, 128])\n",
      "Output shape: torch.Size([1, 1, 128, 128])\n"
     ]
    }
   ],
   "source": [
    "# デバイスの設定（CUDAが利用可能であればGPUを使う）\n",
    "device = torch.device('cuda' if torch.cuda.is_available() else 'cpu')\n",
    "\n",
    "# モデルのインスタンスを作成\n",
    "model = UNet(n_channels=3, n_classes=1).to(device)\n",
    "\n",
    "# 学習済みのモデルの重みをロード\n",
    "model.load_state_dict(torch.load('./brain-mri-unet.pth', map_location=device))\n",
    "\n",
    "# モデルを評価モードに設定\n",
    "model.eval()\n",
    "\n",
    "# ダミー入力データを作成してモデルに通し、出力形状を確認\n",
    "dummy_input = torch.randn(1, 3, 128, 128).to(device)\n",
    "with torch.no_grad():\n",
    "    output = model(dummy_input)\n",
    "print(f'Input shape: {dummy_input.shape}')\n",
    "print(f'Output shape: {output.shape}')"
   ]
  },
  {
   "cell_type": "code",
   "execution_count": null,
   "id": "fe98f191",
   "metadata": {},
   "outputs": [],
   "source": []
  },
  {
   "cell_type": "code",
   "execution_count": 5,
   "id": "9fc0290b",
   "metadata": {},
   "outputs": [],
   "source": [
    "person_id = \"TCGA_CS_5395_19981004\"\n",
    "\n",
    "base_path = os.getcwd()\n",
    "ROOT_PATH = os.path.join(base_path, \"bigdata\", \"kaggle_3m\", person_id)\n",
    "mask_path = os.path.join(ROOT_PATH, f\"{person_id}_13_mask.tif\")\n",
    "image_path = mask_path.replace(\"_mask\", \"\")"
   ]
  },
  {
   "cell_type": "code",
   "execution_count": 6,
   "id": "2363a1ed",
   "metadata": {},
   "outputs": [
    {
     "name": "stdout",
     "output_type": "stream",
     "text": [
      "/home/eiji/practice/unet/bigdata/kaggle_3m/TCGA_CS_5395_19981004/TCGA_CS_5395_19981004_13.tif\n"
     ]
    }
   ],
   "source": [
    "print(image_path)"
   ]
  },
  {
   "cell_type": "code",
   "execution_count": 7,
   "id": "6c1a0d31",
   "metadata": {},
   "outputs": [],
   "source": [
    "class BrainDataset(data.Dataset):\n",
    "    def __init__(self, df, transform=None):\n",
    "        self.df = df\n",
    "        self.transform = transform\n",
    "\n",
    "    def __len__(self):\n",
    "        return len(self.df)\n",
    "\n",
    "    def __getitem__(self, idx):\n",
    "        image = cv2.imread(self.df.iloc[idx, 0])\n",
    "        image = np.array(image)/255.\n",
    "        mask = cv2.imread(self.df.iloc[idx, 1], 0)\n",
    "        mask = np.array(mask)/255.\n",
    "\n",
    "        if self.transform is not None:\n",
    "            aug = self.transform(image=image, mask=mask)\n",
    "            image = aug['image']\n",
    "            mask = aug['mask']\n",
    "\n",
    "        image = image.transpose((2,0,1))\n",
    "        image = torch.from_numpy(image).type(torch.float32)\n",
    "        image = tt.Normalize((0.485, 0.456, 0.406), (0.229, 0.224, 0.225))(image)\n",
    "        mask = np.expand_dims(mask, axis=-1).transpose((2,0,1))\n",
    "        mask = torch.from_numpy(mask).type(torch.float32)\n",
    "\n",
    "        return image, mask"
   ]
  },
  {
   "cell_type": "code",
   "execution_count": 8,
   "id": "6779f77d",
   "metadata": {},
   "outputs": [
    {
     "name": "stderr",
     "output_type": "stream",
     "text": [
      "Clipping input data to the valid range for imshow with RGB data ([0..1] for floats or [0..255] for integers).\n"
     ]
    },
    {
     "data": {
      "image/png": "[encoded data removed]",
      "text/plain": [
       "<Figure size 1000x500 with 3 Axes>"
      ]
     },
     "metadata": {},
     "output_type": "display_data"
    }
   ],
   "source": [
    "\n",
    "test_transform = A.Compose([\n",
    "    A.Resize(width=128, height=128, p=1.0)\n",
    "])\n",
    "\n",
    "# 新しい画像ファイル名を指定する\n",
    "new_image_path = image_path\n",
    "new_mask_path = mask_path\n",
    "\n",
    "# BrainDataset インスタンスを作成する\n",
    "new_data = {'image_path': [new_image_path], 'mask_path': [new_mask_path]}\n",
    "new_df = pd.DataFrame(new_data)\n",
    "new_ds = BrainDataset(new_df, transform=test_transform)  # ここで適切な変換を適用\n",
    "\n",
    "# データローダーを作成する\n",
    "new_dl = DataLoader(new_ds, batch_size=1, shuffle=False)\n",
    "\n",
    "# モデルの出力を取得して表示・保存する関数\n",
    "def predict_and_save(model, dataloader, device):\n",
    "    model.eval()\n",
    "    with torch.no_grad():\n",
    "        for image, mask in dataloader:\n",
    "            image = image.to(device)\n",
    "            pred_mask = model(image)\n",
    "\n",
    "            # 出力を表示する\n",
    "            plt.figure(figsize=(10, 5))\n",
    "\n",
    "            plt.subplot(1, 3, 1)\n",
    "            plt.imshow(image[0].cpu().numpy().transpose(1, 2, 0))\n",
    "            plt.title('Input Image')\n",
    "\n",
    "            plt.subplot(1, 3, 2)\n",
    "            plt.imshow(mask[0].cpu().numpy().transpose(1, 2, 0).squeeze(), cmap='gray')\n",
    "            plt.title('True Mask')\n",
    "\n",
    "            plt.subplot(1, 3, 3)\n",
    "            plt.imshow(pred_mask[0].cpu().numpy().transpose(1, 2, 0).squeeze(), cmap='gray')\n",
    "            plt.title('Predicted Mask')\n",
    "\n",
    "            plt.show()\n",
    "\n",
    "            # 出力を保存する\n",
    "            pred_mask_np = pred_mask[0].cpu().numpy().transpose(1, 2, 0).squeeze()\n",
    "            pred_mask_img = Image.fromarray((pred_mask_np * 255).astype(np.uint8))\n",
    "            pred_mask_img.save('predicted_mask.png')\n",
    "\n",
    "# モデルに新しい画像を入力して結果を表示・保存する\n",
    "predict_and_save(model, new_dl, device)\n"
   ]
  },
  {
   "cell_type": "code",
   "execution_count": null,
   "id": "6fb3e46d",
   "metadata": {},
   "outputs": [],
   "source": []
  }
 ],
 "metadata": {
  "kernelspec": {
   "display_name": "Python 3 (ipykernel)",
   "language": "python",
   "name": "python3"
  },
  "language_info": {
   "codemirror_mode": {
    "name": "ipython",
    "version": 3
   },
   "file_extension": ".py",
   "mimetype": "text/x-python",
   "name": "python",
   "nbconvert_exporter": "python",
   "pygments_lexer": "ipython3",
   "version": "3.11.5"
  }
 },
 "nbformat": 4,
 "nbformat_minor": 5
}
